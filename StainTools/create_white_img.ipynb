{
 "cells": [
  {
   "cell_type": "markdown",
   "metadata": {},
   "source": [
    "create a white image to test the bug:"
   ]
  },
  {
   "cell_type": "code",
   "execution_count": 2,
   "metadata": {},
   "outputs": [],
   "source": [
    "from PIL import Image\n",
    "\n",
    "# 创建白色图像\n",
    "image = Image.new('RGB', (224, 224), color='white')\n",
    "\n",
    "# 保存图像为PNG格式\n",
    "image.save('/data1/r20user3/StainTools/debug_data/white_image.png', 'PNG')"
   ]
  },
  {
   "cell_type": "markdown",
   "metadata": {},
   "source": [
    "create two images with different ratio of white background to test the background threshold function"
   ]
  },
  {
   "cell_type": "code",
   "execution_count": 3,
   "metadata": {},
   "outputs": [],
   "source": [
    "from PIL import Image\n",
    "\n",
    "# 读取图片\n",
    "image = Image.open('/data1/r20user3/StainTools/debug_data/96_19.jpeg')\n",
    "\n",
    "# 获取图片的宽度和高度\n",
    "width, height = image.size\n",
    "\n",
    "# 计算右上角的坐标，四分之一的区域\n",
    "right_top_corner = (width // 2, 0)\n",
    "right_top_width = width // 2\n",
    "right_top_height = height // 2\n",
    "\n",
    "# 将右上角置为白色\n",
    "for x in range(right_top_corner[0], width):\n",
    "    for y in range(right_top_height):\n",
    "        image.putpixel((x, y), (255, 255, 255))\n",
    "\n",
    "# 保存修改后的图片到指定路径\n",
    "image.save('/data1/r20user3/StainTools/debug_data/96_19_white25.jpeg', 'png')"
   ]
  },
  {
   "cell_type": "code",
   "execution_count": null,
   "metadata": {},
   "outputs": [],
   "source": [
    "from PIL import Image\n",
    "\n",
    "# 读取图片\n",
    "image = Image.open('/data1/r20user3/StainTools/debug_data/96_19.jpeg')\n",
    "\n",
    "# 获取图片的宽度和高度\n",
    "width, height = image.size\n",
    "\n",
    "# 计算右上角的坐标，四分之一的区域\n",
    "right_top_corner = (width // 2, 0)\n",
    "right_top_width = width // 2\n",
    "right_top_height = height // 2\n",
    "\n",
    "# 将右上角置为白色\n",
    "for x in range(right_top_corner[0], width):\n",
    "    for y in range(right_top_height):\n",
    "        image.putpixel((x, y), (255, 255, 255))\n",
    "\n",
    "# 保存修改后的图片到指定路径\n",
    "image.save('/data1/r20user3/StainTools/debug_data/96_19_white25.jpeg', 'png')"
   ]
  },
  {
   "cell_type": "code",
   "execution_count": 4,
   "metadata": {},
   "outputs": [],
   "source": [
    "from PIL import Image\n",
    "\n",
    "# 读取图片\n",
    "image = Image.open('/data1/r20user3/StainTools/debug_data/96_19.jpeg')\n",
    "\n",
    "# 获取图片的宽度和高度\n",
    "width, height = image.size\n",
    "\n",
    "# 计算上方的坐标，二分之一的区域\n",
    "top_left_corner = (0, 0)\n",
    "top_right_corner = (width, 0)\n",
    "top_height = height // 2\n",
    "\n",
    "# 将上方置为白色\n",
    "for x in range(top_left_corner[0], top_right_corner[0]):\n",
    "    for y in range(top_height):\n",
    "        image.putpixel((x, y), (255, 255, 255))\n",
    "\n",
    "# 保存修改后的图片到指定路径\n",
    "image.save('/data1/r20user3/StainTools/debug_data/96_19_white50.jpeg', 'png')"
   ]
  },
  {
   "cell_type": "code",
   "execution_count": 9,
   "metadata": {},
   "outputs": [
    {
     "data": {
      "text/plain": [
       "0.6932796556122449"
      ]
     },
     "execution_count": 9,
     "metadata": {},
     "output_type": "execute_result"
    }
   ],
   "source": [
    "import stain_utils as ut\n",
    "import numpy as np\n",
    "\n",
    "I = ut.read_image('/data1/r20user3/StainTools/debug_data/96_19.jpeg')\n",
    "I = ut.standardize_brightness(I)\n",
    "# 获得white background mask\n",
    "mask = ut.notwhite_mask(I, thresh=0.8).reshape((-1,))\n",
    "# 统计其中True的元素数量\n",
    "true_count = np.count_nonzero(mask)\n",
    "# 计算True元素的比例\n",
    "true_ratio = true_count / mask.size\n",
    "true_ratio"
   ]
  },
  {
   "cell_type": "code",
   "execution_count": 11,
   "metadata": {},
   "outputs": [
    {
     "data": {
      "text/plain": [
       "0.6070232780612245"
      ]
     },
     "execution_count": 11,
     "metadata": {},
     "output_type": "execute_result"
    }
   ],
   "source": [
    "import stain_utils as ut\n",
    "import numpy as np\n",
    "\n",
    "I = ut.read_image('/data1/r20user3/StainTools/debug_data/96_19_white25.jpeg')\n",
    "I = ut.standardize_brightness(I)\n",
    "# 获得white background mask\n",
    "mask = ut.notwhite_mask(I, thresh=0.8).reshape((-1,))\n",
    "# 统计其中True的元素数量\n",
    "true_count = np.count_nonzero(mask)\n",
    "# 计算True元素的比例\n",
    "true_ratio = true_count / mask.size\n",
    "true_ratio"
   ]
  },
  {
   "cell_type": "code",
   "execution_count": 12,
   "metadata": {},
   "outputs": [
    {
     "data": {
      "text/plain": [
       "0.40367904974489793"
      ]
     },
     "execution_count": 12,
     "metadata": {},
     "output_type": "execute_result"
    }
   ],
   "source": [
    "import stain_utils as ut\n",
    "import numpy as np\n",
    "\n",
    "I = ut.read_image('/data1/r20user3/StainTools/debug_data/96_19_white50.jpeg')\n",
    "I = ut.standardize_brightness(I)\n",
    "# 获得white background mask\n",
    "mask = ut.notwhite_mask(I, thresh=0.8).reshape((-1,))\n",
    "# 统计其中True的元素数量\n",
    "true_count = np.count_nonzero(mask)\n",
    "# 计算True元素的比例\n",
    "true_ratio = true_count / mask.size\n",
    "true_ratio"
   ]
  },
  {
   "cell_type": "code",
   "execution_count": 13,
   "metadata": {},
   "outputs": [
    {
     "data": {
      "text/plain": [
       "0.0"
      ]
     },
     "execution_count": 13,
     "metadata": {},
     "output_type": "execute_result"
    }
   ],
   "source": [
    "import stain_utils as ut\n",
    "import numpy as np\n",
    "\n",
    "I = ut.read_image('/data1/r20user3/StainTools/debug_data/white_image.png')\n",
    "I = ut.standardize_brightness(I)\n",
    "# 获得white background mask\n",
    "mask = ut.notwhite_mask(I, thresh=0.8).reshape((-1,))\n",
    "# 统计其中True的元素数量\n",
    "true_count = np.count_nonzero(mask)\n",
    "# 计算True元素的比例\n",
    "true_ratio = true_count / mask.size\n",
    "true_ratio"
   ]
  }
 ],
 "metadata": {
  "kernelspec": {
   "display_name": "base",
   "language": "python",
   "name": "python3"
  },
  "language_info": {
   "codemirror_mode": {
    "name": "ipython",
    "version": 3
   },
   "file_extension": ".py",
   "mimetype": "text/x-python",
   "name": "python",
   "nbconvert_exporter": "python",
   "pygments_lexer": "ipython3",
   "version": "3.8.8"
  }
 },
 "nbformat": 4,
 "nbformat_minor": 2
}
